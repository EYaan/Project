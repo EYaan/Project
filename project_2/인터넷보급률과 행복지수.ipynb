{
 "cells": [
  {
   "cell_type": "code",
   "execution_count": 189,
   "metadata": {},
   "outputs": [
    {
     "name": "stdout",
     "output_type": "stream",
     "text": [
      "<class 'pandas.core.frame.DataFrame'>\n",
      "RangeIndex: 150 entries, 0 to 149\n",
      "Data columns (total 10 columns):\n",
      "Unnamed: 0                      150 non-null int64\n",
      "Country name                    150 non-null object\n",
      "internetuserate                 150 non-null float64\n",
      "Ladder score                    150 non-null float64\n",
      "Logged GDP per capita           150 non-null float64\n",
      "Social support                  150 non-null float64\n",
      "Healthy life expectancy         150 non-null float64\n",
      "Freedom to make life choices    150 non-null float64\n",
      "Perceptions of corruption       150 non-null float64\n",
      "Generosity                      150 non-null float64\n",
      "dtypes: float64(8), int64(1), object(1)\n",
      "memory usage: 11.8+ KB\n"
     ]
    }
   ],
   "source": [
    "import numpy as np\n",
    "import pandas as pd\n",
    "import matplotlib.pyplot as plt\n",
    "import seaborn as sns\n",
    "\n",
    "%matplotlib inline\n",
    "\n",
    "ha_in = pd.read_csv(\"D:/python3/data/ha_in.csv\")\n",
    "ha_in.info()"
   ]
  },
  {
   "cell_type": "code",
   "execution_count": 80,
   "metadata": {},
   "outputs": [
    {
     "data": {
      "image/png": "[encoded data removed]",
      "text/plain": [
       "<Figure size 432x288 with 1 Axes>"
      ]
     },
     "metadata": {
      "needs_background": "light"
     },
     "output_type": "display_data"
    }
   ],
   "source": [
    "plt.scatter(ha_in['Ladder score'], ha_in['internetuserate'])\n",
    "plt.show()\n",
    "#인터넷보급률과 행복지수"
   ]
  },
  {
   "cell_type": "code",
   "execution_count": 81,
   "metadata": {
    "scrolled": true
   },
   "outputs": [
    {
     "data": {
      "text/plain": [
       "0.7908864258730282"
      ]
     },
     "execution_count": 81,
     "metadata": {},
     "output_type": "execute_result"
    }
   ],
   "source": [
    "corr_h_i = np.corrcoef(ha_in['internetuserate'], ha_in['Ladder score'])[0, 1]\n",
    "corr_h_i\n",
    "# 강한 양의 상관관계의 상관계수"
   ]
  },
  {
   "cell_type": "code",
   "execution_count": 190,
   "metadata": {},
   "outputs": [
    {
     "data": {
      "text/html": [
       "<div>\n",
       "<style scoped>\n",
       "    .dataframe tbody tr th:only-of-type {\n",
       "        vertical-align: middle;\n",
       "    }\n",
       "\n",
       "    .dataframe tbody tr th {\n",
       "        vertical-align: top;\n",
       "    }\n",
       "\n",
       "    .dataframe thead th {\n",
       "        text-align: right;\n",
       "    }\n",
       "</style>\n",
       "<table border=\"1\" class=\"dataframe\">\n",
       "  <thead>\n",
       "    <tr style=\"text-align: right;\">\n",
       "      <th></th>\n",
       "      <th>Unnamed: 0</th>\n",
       "      <th>Country name</th>\n",
       "      <th>internetuserate</th>\n",
       "      <th>Ladder score</th>\n",
       "      <th>Logged GDP per capita</th>\n",
       "      <th>Social support</th>\n",
       "      <th>Healthy life expectancy</th>\n",
       "      <th>Freedom to make life choices</th>\n",
       "      <th>Perceptions of corruption</th>\n",
       "      <th>Generosity</th>\n",
       "    </tr>\n",
       "  </thead>\n",
       "  <tbody>\n",
       "    <tr>\n",
       "      <th>43</th>\n",
       "      <td>43</td>\n",
       "      <td>Finland</td>\n",
       "      <td>86.898845</td>\n",
       "      <td>7.619957</td>\n",
       "      <td>1.359427</td>\n",
       "      <td>1.396810</td>\n",
       "      <td>0.867350</td>\n",
       "      <td>0.637285</td>\n",
       "      <td>0.421604</td>\n",
       "      <td>0.196083</td>\n",
       "    </tr>\n",
       "    <tr>\n",
       "      <th>35</th>\n",
       "      <td>35</td>\n",
       "      <td>Denmark</td>\n",
       "      <td>88.770254</td>\n",
       "      <td>7.570800</td>\n",
       "      <td>1.401799</td>\n",
       "      <td>1.407127</td>\n",
       "      <td>0.866940</td>\n",
       "      <td>0.640120</td>\n",
       "      <td>0.446733</td>\n",
       "      <td>0.292168</td>\n",
       "    </tr>\n",
       "    <tr>\n",
       "      <th>128</th>\n",
       "      <td>131</td>\n",
       "      <td>Switzerland</td>\n",
       "      <td>82.166660</td>\n",
       "      <td>7.526843</td>\n",
       "      <td>1.473942</td>\n",
       "      <td>1.376866</td>\n",
       "      <td>0.928303</td>\n",
       "      <td>0.626452</td>\n",
       "      <td>0.388538</td>\n",
       "      <td>0.265745</td>\n",
       "    </tr>\n",
       "    <tr>\n",
       "      <th>57</th>\n",
       "      <td>57</td>\n",
       "      <td>Iceland</td>\n",
       "      <td>95.638113</td>\n",
       "      <td>7.516214</td>\n",
       "      <td>1.391588</td>\n",
       "      <td>1.454804</td>\n",
       "      <td>0.908795</td>\n",
       "      <td>0.635736</td>\n",
       "      <td>0.145038</td>\n",
       "      <td>0.392993</td>\n",
       "    </tr>\n",
       "    <tr>\n",
       "      <th>103</th>\n",
       "      <td>104</td>\n",
       "      <td>Norway</td>\n",
       "      <td>93.277508</td>\n",
       "      <td>7.512143</td>\n",
       "      <td>1.509159</td>\n",
       "      <td>1.394078</td>\n",
       "      <td>0.879534</td>\n",
       "      <td>0.651920</td>\n",
       "      <td>0.368693</td>\n",
       "      <td>0.311705</td>\n",
       "    </tr>\n",
       "  </tbody>\n",
       "</table>\n",
       "</div>"
      ],
      "text/plain": [
       "     Unnamed: 0 Country name  internetuserate  Ladder score  \\\n",
       "43           43      Finland        86.898845      7.619957   \n",
       "35           35      Denmark        88.770254      7.570800   \n",
       "128         131  Switzerland        82.166660      7.526843   \n",
       "57           57      Iceland        95.638113      7.516214   \n",
       "103         104       Norway        93.277508      7.512143   \n",
       "\n",
       "     Logged GDP per capita  Social support  Healthy life expectancy  \\\n",
       "43                1.359427        1.396810                 0.867350   \n",
       "35                1.401799        1.407127                 0.866940   \n",
       "128               1.473942        1.376866                 0.928303   \n",
       "57                1.391588        1.454804                 0.908795   \n",
       "103               1.509159        1.394078                 0.879534   \n",
       "\n",
       "     Freedom to make life choices  Perceptions of corruption  Generosity  \n",
       "43                       0.637285                   0.421604    0.196083  \n",
       "35                       0.640120                   0.446733    0.292168  \n",
       "128                      0.626452                   0.388538    0.265745  \n",
       "57                       0.635736                   0.145038    0.392993  \n",
       "103                      0.651920                   0.368693    0.311705  "
      ]
     },
     "execution_count": 190,
     "metadata": {},
     "output_type": "execute_result"
    }
   ],
   "source": [
    "ha_in_score = ha_in.sort_values(by = ['Ladder score'], axis=0, ascending=False)\n",
    "# 행복지수 순위대로 나열\n",
    "ha_in_score.head()"
   ]
  },
  {
   "cell_type": "code",
   "execution_count": 137,
   "metadata": {},
   "outputs": [],
   "source": [
    "# 30개국씩 데이터 분리\n",
    "ha_in_score30 = ha_in_score[:30]\n",
    "ha_in_score60 = ha_in_score[30:60]\n",
    "ha_in_score90 = ha_in_score[60:90]\n",
    "ha_in_score120 = ha_in_score[90:120]\n",
    "ha_in_score150 = ha_in_score[120:150]"
   ]
  },
  {
   "cell_type": "code",
   "execution_count": 145,
   "metadata": {},
   "outputs": [],
   "source": [
    "# 30개국마다 보급률과 행복지수의 상관계수\n",
    "corr_hi = np.corrcoef(ha_in_score['internetuserate'], ha_in_score['Ladder score'])[0, 1]\n",
    "corr_hi30 = np.corrcoef(ha_in_score30['internetuserate'], ha_in_score30['Ladder score'])[0, 1]\n",
    "corr_hi60 = np.corrcoef(ha_in_score60['internetuserate'], ha_in_score60['Ladder score'])[0, 1]\n",
    "corr_hi90 = np.corrcoef(ha_in_score90['internetuserate'], ha_in_score90['Ladder score'])[0, 1]\n",
    "corr_hi120 = np.corrcoef(ha_in_score120['internetuserate'], ha_in_score120['Ladder score'])[0, 1]\n",
    "corr_hi150 = np.corrcoef(ha_in_score150['internetuserate'], ha_in_score150['Ladder score'])[0, 1]rr_hi150 = np.corrcoef(ha_in_score150['internetuserate'], ha_in_score150['Ladder score'])[0, 1]\n"
   ]
  },
  {
   "cell_type": "code",
   "execution_count": 146,
   "metadata": {},
   "outputs": [
    {
     "data": {
      "text/plain": [
       "0.6417524740547678"
      ]
     },
     "execution_count": 146,
     "metadata": {},
     "output_type": "execute_result"
    }
   ],
   "source": [
    "# 행복지수가 높은 나라들은 어느정도 강한 양의 상관계수\n",
    "corr_hi30"
   ]
  },
  {
   "cell_type": "code",
   "execution_count": 147,
   "metadata": {},
   "outputs": [
    {
     "data": {
      "text/plain": [
       "0.004955518358375896"
      ]
     },
     "execution_count": 147,
     "metadata": {},
     "output_type": "execute_result"
    }
   ],
   "source": [
    "# 상관x\n",
    "corr_hi60"
   ]
  },
  {
   "cell_type": "code",
   "execution_count": 148,
   "metadata": {},
   "outputs": [
    {
     "data": {
      "text/plain": [
       "0.2753163006073334"
      ]
     },
     "execution_count": 148,
     "metadata": {},
     "output_type": "execute_result"
    }
   ],
   "source": [
    "# 상관x\n",
    "corr_hi90"
   ]
  },
  {
   "cell_type": "code",
   "execution_count": 149,
   "metadata": {},
   "outputs": [
    {
     "data": {
      "text/plain": [
       "0.2614937213555049"
      ]
     },
     "execution_count": 149,
     "metadata": {},
     "output_type": "execute_result"
    }
   ],
   "source": [
    "# 상관x\n",
    "corr_hi120"
   ]
  },
  {
   "cell_type": "code",
   "execution_count": 167,
   "metadata": {},
   "outputs": [
    {
     "data": {
      "text/plain": [
       "-0.23027272208917535"
      ]
     },
     "execution_count": 167,
     "metadata": {},
     "output_type": "execute_result"
    }
   ],
   "source": [
    "# 행복지수가 낮은 나라들은 음의 상관계수\n",
    "corr_hi150"
   ]
  },
  {
   "cell_type": "code",
   "execution_count": 176,
   "metadata": {},
   "outputs": [
    {
     "name": "stdout",
     "output_type": "stream",
     "text": [
      "1.358195749001981\n",
      "1.135149424975467\n",
      "0.9878417482264202\n",
      "0.7801800860594247\n",
      "0.4371570637690815\n"
     ]
    }
   ],
   "source": [
    "# 분리된 데이터의 1인당 gdp\n",
    "print(ha_in_score30[\"Logged GDP per capita\"].mean())\n",
    "print(ha_in_score60[\"Logged GDP per capita\"].mean())\n",
    "print(ha_in_score90[\"Logged GDP per capita\"].mean())\n",
    "print(ha_in_score120[\"Logged GDP per capita\"].mean())\n",
    "print(ha_in_score150[\"Logged GDP per capita\"].mean())"
   ]
  },
  {
   "cell_type": "code",
   "execution_count": null,
   "metadata": {},
   "outputs": [],
   "source": []
  }
 ],
 "metadata": {
  "kernelspec": {
   "display_name": "Python 3",
   "language": "python",
   "name": "python3"
  },
  "language_info": {
   "codemirror_mode": {
    "name": "ipython",
    "version": 3
   },
   "file_extension": ".py",
   "mimetype": "text/x-python",
   "name": "python",
   "nbconvert_exporter": "python",
   "pygments_lexer": "ipython3",
   "version": "3.7.3"
  }
 },
 "nbformat": 4,
 "nbformat_minor": 2
}
